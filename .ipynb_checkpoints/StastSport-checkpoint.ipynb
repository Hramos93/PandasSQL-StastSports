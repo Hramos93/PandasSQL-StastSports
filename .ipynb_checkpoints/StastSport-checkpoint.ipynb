{
 "cells": [
  {
   "cell_type": "code",
   "execution_count": 75,
   "id": "attached-framing",
   "metadata": {},
   "outputs": [],
   "source": [
    "import pandas as pd\n",
    "from pandasql import sqldf \n",
    "import numpy as np\n",
    "import matplotlib.pyplot as plt\n",
    "\n"
   ]
  },
  {
   "cell_type": "code",
   "execution_count": 76,
   "id": "criminal-edward",
   "metadata": {},
   "outputs": [
    {
     "data": {
      "text/plain": [
       "Index(['ID', 'Name', 'Sex', 'Age', 'Height', 'Weight', 'Team', 'NOC', 'Games',\n",
       "       'Year', 'Season', 'City', 'Sport', 'Event', 'Medal'],\n",
       "      dtype='object')"
      ]
     },
     "execution_count": 76,
     "metadata": {},
     "output_type": "execute_result"
    }
   ],
   "source": [
    "sql = lambda q: sqldf(q, globals())\n",
    "df = pd.read_csv(\"athlete_events.csv\")\n",
    "df.columns"
   ]
  },
  {
   "cell_type": "code",
   "execution_count": 77,
   "id": "configured-spyware",
   "metadata": {},
   "outputs": [],
   "source": [
    "def fun(bbd):\n",
    "    qry =sql('''\n",
    "    SELECT\n",
    "    *\n",
    "    FROM  df\n",
    "    LIMIT 5\n",
    "    '''.format(df = varname(bbd)))\n",
    "    return qry"
   ]
  },
  {
   "cell_type": "code",
   "execution_count": 78,
   "id": "collective-spirituality",
   "metadata": {},
   "outputs": [],
   "source": [
    "def clean(bbd:str,columns:list):\n",
    "    qry = sql('''\n",
    "    SELECT\n",
    "    {1}\n",
    "    FROM {0}\n",
    "    '''.format(bbd,str(columns)[1:-1].replace(\"'\" , \"\")))\n",
    "    return qry"
   ]
  },
  {
   "cell_type": "code",
   "execution_count": 79,
   "id": "premier-lancaster",
   "metadata": {},
   "outputs": [],
   "source": [
    "columns = 'ID','Sex','Age','Height','Weight','Team','Year','Season','City','Sport'\n",
    "newdf = clean('df',columns)\n",
    "newdf = newdf.dropna(subset=['Age','Height','Weight'])\n",
    "newdf.Team= newdf.Team.str.replace('[\\d+\\W]','', regex=True)"
   ]
  },
  {
   "cell_type": "code",
   "execution_count": 80,
   "id": "circular-purple",
   "metadata": {},
   "outputs": [],
   "source": [
    "def sex(bbd, columns:list, sex:str):\n",
    "    qry = sql('''\n",
    "    SELECT\n",
    "    {1}\n",
    "    FROM {0}\n",
    "    WHERE Sex = \"{2}\"\n",
    "    '''.format(bbd,str(columns)[1:-1].replace(\"'\" , \"\"), sex))\n",
    "    return qry"
   ]
  },
  {
   "cell_type": "code",
   "execution_count": 81,
   "id": "willing-limit",
   "metadata": {},
   "outputs": [
    {
     "name": "stdout",
     "output_type": "stream",
     "text": [
      " Shape Male DataFrame (139454, 10) \n",
      " Shape Female DataFrame (66711, 10)\n"
     ]
    }
   ],
   "source": [
    "Male = sex('newdf',columns,'M')\n",
    "Female = sex('newdf', columns, 'F')\n",
    "print(' Shape Male DataFrame {} \\n Shape Female DataFrame {}'.format(Male.shape, Female.shape))"
   ]
  },
  {
   "cell_type": "markdown",
   "id": "terminal-access",
   "metadata": {},
   "source": [
    "### Male"
   ]
  },
  {
   "cell_type": "code",
   "execution_count": 82,
   "id": "sufficient-prescription",
   "metadata": {},
   "outputs": [],
   "source": [
    "def Count(bbd:str, column:str):\n",
    "    qry= sql('''\n",
    "    SELECT\n",
    "    {1},\n",
    "    COUNT({1}) as count\n",
    "    FROM {0}\n",
    "    GROUP BY {1}\n",
    "    '''.format(bbd,column))\n",
    "    return qry"
   ]
  },
  {
   "cell_type": "code",
   "execution_count": 83,
   "id": "multiple-concept",
   "metadata": {},
   "outputs": [
    {
     "data": {
      "text/html": [
       "<div>\n",
       "<style scoped>\n",
       "    .dataframe tbody tr th:only-of-type {\n",
       "        vertical-align: middle;\n",
       "    }\n",
       "\n",
       "    .dataframe tbody tr th {\n",
       "        vertical-align: top;\n",
       "    }\n",
       "\n",
       "    .dataframe thead th {\n",
       "        text-align: right;\n",
       "    }\n",
       "</style>\n",
       "<table border=\"1\" class=\"dataframe\">\n",
       "  <thead>\n",
       "    <tr style=\"text-align: right;\">\n",
       "      <th></th>\n",
       "      <th>Age</th>\n",
       "      <th>count</th>\n",
       "    </tr>\n",
       "  </thead>\n",
       "  <tbody>\n",
       "    <tr>\n",
       "      <th>Male</th>\n",
       "      <td>71.0</td>\n",
       "      <td>1</td>\n",
       "    </tr>\n",
       "    <tr>\n",
       "      <th>Male</th>\n",
       "      <td>70.0</td>\n",
       "      <td>2</td>\n",
       "    </tr>\n",
       "    <tr>\n",
       "      <th>Female</th>\n",
       "      <td>69.0</td>\n",
       "      <td>2</td>\n",
       "    </tr>\n",
       "    <tr>\n",
       "      <th>Male</th>\n",
       "      <td>68.0</td>\n",
       "      <td>1</td>\n",
       "    </tr>\n",
       "    <tr>\n",
       "      <th>Male</th>\n",
       "      <td>67.0</td>\n",
       "      <td>2</td>\n",
       "    </tr>\n",
       "    <tr>\n",
       "      <th>...</th>\n",
       "      <td>...</td>\n",
       "      <td>...</td>\n",
       "    </tr>\n",
       "    <tr>\n",
       "      <th>Female</th>\n",
       "      <td>13.0</td>\n",
       "      <td>133</td>\n",
       "    </tr>\n",
       "    <tr>\n",
       "      <th>Male</th>\n",
       "      <td>13.0</td>\n",
       "      <td>28</td>\n",
       "    </tr>\n",
       "    <tr>\n",
       "      <th>Female</th>\n",
       "      <td>12.0</td>\n",
       "      <td>24</td>\n",
       "    </tr>\n",
       "    <tr>\n",
       "      <th>Male</th>\n",
       "      <td>12.0</td>\n",
       "      <td>3</td>\n",
       "    </tr>\n",
       "    <tr>\n",
       "      <th>Female</th>\n",
       "      <td>11.0</td>\n",
       "      <td>6</td>\n",
       "    </tr>\n",
       "  </tbody>\n",
       "</table>\n",
       "<p>114 rows × 2 columns</p>\n",
       "</div>"
      ],
      "text/plain": [
       "         Age  count\n",
       "Male    71.0      1\n",
       "Male    70.0      2\n",
       "Female  69.0      2\n",
       "Male    68.0      1\n",
       "Male    67.0      2\n",
       "...      ...    ...\n",
       "Female  13.0    133\n",
       "Male    13.0     28\n",
       "Female  12.0     24\n",
       "Male    12.0      3\n",
       "Female  11.0      6\n",
       "\n",
       "[114 rows x 2 columns]"
      ]
     },
     "execution_count": 83,
     "metadata": {},
     "output_type": "execute_result"
    }
   ],
   "source": [
    "countageM = Count('Male','Age')\n",
    "countageF = Count('Female','Age')\n",
    "count = pd.concat([countageM,countageF],keys=['Male','Female']).droplevel(level=1)\n",
    "count.sort_values(by='Age', ascending=False)"
   ]
  },
  {
   "cell_type": "code",
   "execution_count": 84,
   "id": "original-attraction",
   "metadata": {},
   "outputs": [
    {
     "data": {
      "image/png": "[encoded data removed]",
      "text/plain": [
       "<Figure size 432x288 with 1 Axes>"
      ]
     },
     "metadata": {
      "needs_background": "light"
     },
     "output_type": "display_data"
    }
   ],
   "source": [
    "fig, ax = plt.subplots()\n",
    "M = ax.bar(countageM['Age'],countageM['count'], label='Male', alpha=0.6)\n",
    "F = ax.bar(countageF['Age'], countageF['count'], label='Female', alpha=0.6)\n",
    "ax.legend()\n",
    "plt.grid()\n",
    "plt.show()"
   ]
  },
  {
   "cell_type": "code",
   "execution_count": 85,
   "id": "victorian-organ",
   "metadata": {},
   "outputs": [],
   "source": [
    "def stast(bbd:str, column, sex:str):\n",
    "    qry=sql('''\n",
    "    SELECT\n",
    "    min({1}) as min,\n",
    "    ROUND(avg({1}),2) as avg,\n",
    "    max({1}) as max\n",
    "    FROM {0}\n",
    "    '''.format(bbd, column,sex))\n",
    "    return qry"
   ]
  },
  {
   "cell_type": "code",
   "execution_count": 86,
   "id": "funded-gather",
   "metadata": {},
   "outputs": [
    {
     "data": {
      "text/html": [
       "<div>\n",
       "<style scoped>\n",
       "    .dataframe tbody tr th:only-of-type {\n",
       "        vertical-align: middle;\n",
       "    }\n",
       "\n",
       "    .dataframe tbody tr th {\n",
       "        vertical-align: top;\n",
       "    }\n",
       "\n",
       "    .dataframe thead th {\n",
       "        text-align: right;\n",
       "    }\n",
       "</style>\n",
       "<table border=\"1\" class=\"dataframe\">\n",
       "  <thead>\n",
       "    <tr style=\"text-align: right;\">\n",
       "      <th></th>\n",
       "      <th>min</th>\n",
       "      <th>avg</th>\n",
       "      <th>max</th>\n",
       "    </tr>\n",
       "  </thead>\n",
       "  <tbody>\n",
       "    <tr>\n",
       "      <th>Male</th>\n",
       "      <td>12.0</td>\n",
       "      <td>41.03</td>\n",
       "      <td>71.0</td>\n",
       "    </tr>\n",
       "    <tr>\n",
       "      <th>Female</th>\n",
       "      <td>11.0</td>\n",
       "      <td>38.22</td>\n",
       "      <td>69.0</td>\n",
       "    </tr>\n",
       "  </tbody>\n",
       "</table>\n",
       "</div>"
      ],
      "text/plain": [
       "         min    avg   max\n",
       "Male    12.0  41.03  71.0\n",
       "Female  11.0  38.22  69.0"
      ]
     },
     "execution_count": 86,
     "metadata": {},
     "output_type": "execute_result"
    }
   ],
   "source": [
    "stastM = stast('countageM','Age','Male')\n",
    "stastF = stast('countageF', 'Age','Female')\n",
    "summary = pd.concat([stastM,stastF],keys=['Male','Female']).droplevel(level=1)\n",
    "summary"
   ]
  },
  {
   "cell_type": "code",
   "execution_count": 87,
   "id": "optical-lambda",
   "metadata": {},
   "outputs": [],
   "source": [
    "def stastplot(df:pd.DataFrame):\n",
    "    \n",
    "    assert type(df) == pd.DataFrame, \"First parameter should be a DataFrame\"\n",
    "    \n",
    "    x = np.arange(len(df.iloc[0].index))\n",
    "    width = 0.2\n",
    "    for i in range(0,len(summary),1):\n",
    "        if i <= 0:\n",
    "            plt.bar(x , df.iloc[i], width=0.2, label='Male',alpha=0.6)\n",
    "        else:\n",
    "            plt.bar(x + (width*1), df.iloc[i],width=0.2, label='Female',alpha=0.6)\n",
    "    plt.xticks(x, ['min','avg','max'], horizontalalignment=\"left\")\n",
    "    plt.legend()\n",
    "    plt.grid(alpha=0.5)\n",
    "    plt.show()\n",
    "    "
   ]
  },
  {
   "cell_type": "code",
   "execution_count": 88,
   "id": "corporate-needle",
   "metadata": {},
   "outputs": [
    {
     "data": {
      "image/png": "[encoded data removed]",
      "text/plain": [
       "<Figure size 432x288 with 1 Axes>"
      ]
     },
     "metadata": {
      "needs_background": "light"
     },
     "output_type": "display_data"
    }
   ],
   "source": [
    "stastplot(summary)"
   ]
  },
  {
   "cell_type": "code",
   "execution_count": 89,
   "id": "seeing-translation",
   "metadata": {},
   "outputs": [
    {
     "data": {
      "text/html": [
       "<div>\n",
       "<style scoped>\n",
       "    .dataframe tbody tr th:only-of-type {\n",
       "        vertical-align: middle;\n",
       "    }\n",
       "\n",
       "    .dataframe tbody tr th {\n",
       "        vertical-align: top;\n",
       "    }\n",
       "\n",
       "    .dataframe thead th {\n",
       "        text-align: right;\n",
       "    }\n",
       "</style>\n",
       "<table border=\"1\" class=\"dataframe\">\n",
       "  <thead>\n",
       "    <tr style=\"text-align: right;\">\n",
       "      <th></th>\n",
       "      <th>ID</th>\n",
       "      <th>Sex</th>\n",
       "      <th>Age</th>\n",
       "      <th>Height</th>\n",
       "      <th>Weight</th>\n",
       "      <th>Team</th>\n",
       "      <th>Year</th>\n",
       "      <th>Season</th>\n",
       "      <th>City</th>\n",
       "      <th>Sport</th>\n",
       "    </tr>\n",
       "  </thead>\n",
       "  <tbody>\n",
       "    <tr>\n",
       "      <th>0</th>\n",
       "      <td>1</td>\n",
       "      <td>M</td>\n",
       "      <td>24.0</td>\n",
       "      <td>180.0</td>\n",
       "      <td>80.0</td>\n",
       "      <td>China</td>\n",
       "      <td>1992</td>\n",
       "      <td>Summer</td>\n",
       "      <td>Barcelona</td>\n",
       "      <td>Basketball</td>\n",
       "    </tr>\n",
       "    <tr>\n",
       "      <th>1</th>\n",
       "      <td>2</td>\n",
       "      <td>M</td>\n",
       "      <td>23.0</td>\n",
       "      <td>170.0</td>\n",
       "      <td>60.0</td>\n",
       "      <td>China</td>\n",
       "      <td>2012</td>\n",
       "      <td>Summer</td>\n",
       "      <td>London</td>\n",
       "      <td>Judo</td>\n",
       "    </tr>\n",
       "    <tr>\n",
       "      <th>2</th>\n",
       "      <td>6</td>\n",
       "      <td>M</td>\n",
       "      <td>31.0</td>\n",
       "      <td>188.0</td>\n",
       "      <td>75.0</td>\n",
       "      <td>UnitedStates</td>\n",
       "      <td>1992</td>\n",
       "      <td>Winter</td>\n",
       "      <td>Albertville</td>\n",
       "      <td>Cross Country Skiing</td>\n",
       "    </tr>\n",
       "    <tr>\n",
       "      <th>3</th>\n",
       "      <td>6</td>\n",
       "      <td>M</td>\n",
       "      <td>31.0</td>\n",
       "      <td>188.0</td>\n",
       "      <td>75.0</td>\n",
       "      <td>UnitedStates</td>\n",
       "      <td>1992</td>\n",
       "      <td>Winter</td>\n",
       "      <td>Albertville</td>\n",
       "      <td>Cross Country Skiing</td>\n",
       "    </tr>\n",
       "    <tr>\n",
       "      <th>4</th>\n",
       "      <td>6</td>\n",
       "      <td>M</td>\n",
       "      <td>31.0</td>\n",
       "      <td>188.0</td>\n",
       "      <td>75.0</td>\n",
       "      <td>UnitedStates</td>\n",
       "      <td>1992</td>\n",
       "      <td>Winter</td>\n",
       "      <td>Albertville</td>\n",
       "      <td>Cross Country Skiing</td>\n",
       "    </tr>\n",
       "  </tbody>\n",
       "</table>\n",
       "</div>"
      ],
      "text/plain": [
       "   ID Sex   Age  Height  Weight          Team  Year  Season         City  \\\n",
       "0   1   M  24.0   180.0    80.0         China  1992  Summer    Barcelona   \n",
       "1   2   M  23.0   170.0    60.0         China  2012  Summer       London   \n",
       "2   6   M  31.0   188.0    75.0  UnitedStates  1992  Winter  Albertville   \n",
       "3   6   M  31.0   188.0    75.0  UnitedStates  1992  Winter  Albertville   \n",
       "4   6   M  31.0   188.0    75.0  UnitedStates  1992  Winter  Albertville   \n",
       "\n",
       "                  Sport  \n",
       "0            Basketball  \n",
       "1                  Judo  \n",
       "2  Cross Country Skiing  \n",
       "3  Cross Country Skiing  \n",
       "4  Cross Country Skiing  "
      ]
     },
     "execution_count": 89,
     "metadata": {},
     "output_type": "execute_result"
    }
   ],
   "source": [
    "Male.head()"
   ]
  },
  {
   "cell_type": "code",
   "execution_count": 90,
   "id": "inappropriate-effort",
   "metadata": {},
   "outputs": [],
   "source": [
    "def team(bdd, groupby:str, orderby:str):\n",
    "    qry = sql('''\n",
    "    SELECT\n",
    "    Team,\n",
    "    Count({count}) as count\n",
    "    FROM {df}\n",
    "    Group by {group}\n",
    "    Order by {order} desc\n",
    "    '''.format(count = 'ID', df=bdd, group=groupby,order=orderby))\n",
    "    return qry\n"
   ]
  },
  {
   "cell_type": "code",
   "execution_count": 91,
   "id": "fancy-likelihood",
   "metadata": {},
   "outputs": [],
   "source": [
    "M = team('Male','Team','count')\n",
    "F = team('Female','Team','count')"
   ]
  },
  {
   "cell_type": "code",
   "execution_count": 93,
   "id": "willing-apparel",
   "metadata": {},
   "outputs": [],
   "source": [
    "def joinMF():\n",
    "    qry = sql('''\n",
    "    -- METRICS\n",
    "    SELECT\n",
    "    Team,\n",
    "    Mcount,\n",
    "    Fcount,\n",
    "    (Mcount - Fcount) as diference,\n",
    "    ROUND(CAST(Mcount as float) / CAST(Fcount as float),2)  as div\n",
    "    FROM\n",
    "    (-- FILL VALUE WITH 0 WHERE FCOUNT IS NAN\n",
    "    SELECT\n",
    "    Team,\n",
    "    Mcount,\n",
    "    COALESCE(Fcount,0) as Fcount\n",
    "    FROM \n",
    "    ( -- JOIN TABLE M,F\n",
    "    SELECT\n",
    "    M.Team,\n",
    "    M.count as Mcount,\n",
    "    F.count as Fcount\n",
    "    FROM M \n",
    "    LEFT JOIN F\n",
    "    ON M.Team = F.Team))\n",
    "    ''')\n",
    "    return qry\n",
    "\n"
   ]
  },
  {
   "cell_type": "code",
   "execution_count": 95,
   "id": "acoustic-surveillance",
   "metadata": {},
   "outputs": [],
   "source": [
    "joinMF = joinMF()\n",
    "joinMF = joinMF[~joinMF['div'].isnull()]"
   ]
  },
  {
   "cell_type": "code",
   "execution_count": 96,
   "id": "conscious-quick",
   "metadata": {},
   "outputs": [],
   "source": [
    "joinMF50 = joinMF.head(50)\n",
    "joinMF50 = joinMF50.sort_values(by='div', ascending=False)"
   ]
  },
  {
   "cell_type": "code",
   "execution_count": 99,
   "id": "innovative-idaho",
   "metadata": {},
   "outputs": [
    {
     "data": {
      "image/png": "[encoded data removed]",
      "text/plain": [
       "<Figure size 864x432 with 1 Axes>"
      ]
     },
     "metadata": {
      "needs_background": "light"
     },
     "output_type": "display_data"
    }
   ],
   "source": [
    "plt.figure(figsize=(12,6))\n",
    "plt.bar(joinMF50['Team'],joinMF50['div'])\n",
    "plt.xticks(rotation=45,horizontalalignment=\"right\")\n",
    "plt.title(\"Relation between quantity men and women by team\")\n",
    "plt.show()"
   ]
  },
  {
   "cell_type": "code",
   "execution_count": 110,
   "id": "matched-fabric",
   "metadata": {},
   "outputs": [
    {
     "data": {
      "text/html": [
       "<div>\n",
       "<style scoped>\n",
       "    .dataframe tbody tr th:only-of-type {\n",
       "        vertical-align: middle;\n",
       "    }\n",
       "\n",
       "    .dataframe tbody tr th {\n",
       "        vertical-align: top;\n",
       "    }\n",
       "\n",
       "    .dataframe thead th {\n",
       "        text-align: right;\n",
       "    }\n",
       "</style>\n",
       "<table border=\"1\" class=\"dataframe\">\n",
       "  <thead>\n",
       "    <tr style=\"text-align: right;\">\n",
       "      <th></th>\n",
       "      <th></th>\n",
       "      <th>ID</th>\n",
       "    </tr>\n",
       "    <tr>\n",
       "      <th>Team</th>\n",
       "      <th>Year</th>\n",
       "      <th></th>\n",
       "    </tr>\n",
       "  </thead>\n",
       "  <tbody>\n",
       "    <tr>\n",
       "      <th>Acipactli</th>\n",
       "      <th>1964</th>\n",
       "      <td>3</td>\n",
       "    </tr>\n",
       "    <tr>\n",
       "      <th rowspan=\"4\" valign=\"top\">Afghanistan</th>\n",
       "      <th>1960</th>\n",
       "      <td>16</td>\n",
       "    </tr>\n",
       "    <tr>\n",
       "      <th>1964</th>\n",
       "      <td>2</td>\n",
       "    </tr>\n",
       "    <tr>\n",
       "      <th>1968</th>\n",
       "      <td>5</td>\n",
       "    </tr>\n",
       "    <tr>\n",
       "      <th>1972</th>\n",
       "      <td>3</td>\n",
       "    </tr>\n",
       "  </tbody>\n",
       "</table>\n",
       "</div>"
      ],
      "text/plain": [
       "                  ID\n",
       "Team        Year    \n",
       "Acipactli   1964   3\n",
       "Afghanistan 1960  16\n",
       "            1964   2\n",
       "            1968   5\n",
       "            1972   3"
      ]
     },
     "execution_count": 110,
     "metadata": {},
     "output_type": "execute_result"
    }
   ],
   "source": [
    "teamByYear = pd.DataFrame(Male.groupby(['Team','Year']).count()['ID'])\n",
    "teamByYear.head()"
   ]
  },
  {
   "cell_type": "code",
   "execution_count": 113,
   "id": "grateful-glass",
   "metadata": {},
   "outputs": [],
   "source": [
    "def teambyyear(df:str):    \n",
    "    qry = sql('''\n",
    "    SELECT\n",
    "    Team,\n",
    "    Year,\n",
    "    Count('ID') as count{0}\n",
    "    FROM {0}\n",
    "    Group by Team,Year\n",
    "    '''.format(df))\n",
    "    return qry\n"
   ]
  },
  {
   "cell_type": "code",
   "execution_count": 116,
   "id": "mexican-nothing",
   "metadata": {},
   "outputs": [],
   "source": [
    "M = teambyyear('Male')\n",
    "F = teambyyear('Female')"
   ]
  },
  {
   "cell_type": "code",
   "execution_count": 134,
   "id": "straight-tribe",
   "metadata": {},
   "outputs": [],
   "source": [
    "testM = M[M['Team'] == 'Iran'] \n",
    "testF = F[F['Team'] == 'Iran']\n"
   ]
  },
  {
   "cell_type": "code",
   "execution_count": 147,
   "id": "worse-denial",
   "metadata": {},
   "outputs": [],
   "source": [
    "def country(country:str, team='Team'):\n",
    "    Male =M[M[team] ==country]\n",
    "    Fem = F[F[team] == country]\n",
    "    merge = Male.merge(Fem, on='Year', how='left')\n",
    "    merge = merge.fillna(0)\n",
    "    merge = merge.drop(['Team_y'],axis=1)\n",
    "    merge.columns = ['Country','Year','Male','Female']\n",
    "    return merge"
   ]
  },
  {
   "cell_type": "code",
   "execution_count": 211,
   "id": "blessed-danish",
   "metadata": {},
   "outputs": [],
   "source": [
    "def teambycountry(country):\n",
    "    qry=sql('''\n",
    "    SELECT\n",
    "    Team,\n",
    "    Year,\n",
    "    Male,\n",
    "    COALESCE(Female,0) as Female\n",
    "    FROM (\n",
    "    -- SELECT COLUMNS\n",
    "    SELECT\n",
    "    M.Team,\n",
    "    M.Year,\n",
    "    M.countMale as Male,\n",
    "    F.countFemale as Female\n",
    "    FROM\n",
    "    -- JOIN M with F\n",
    "    (SELECT\n",
    "    *\n",
    "    FROM M\n",
    "    WHERE Team = \"{0}\") as M\n",
    "    LEFT  JOIN (\n",
    "    -- DATASET FEMALE\n",
    "    SELECT\n",
    "    *\n",
    "    FROM F\n",
    "    WHERE Team =\"{0}\") as F\n",
    "    ON M.Year = F.Year)\n",
    "    '''.format(country))\n",
    "    return qry"
   ]
  },
  {
   "cell_type": "code",
   "execution_count": 227,
   "id": "front-loading",
   "metadata": {},
   "outputs": [],
   "source": [
    "def barplot(df):\n",
    "    country = teambycountry(df)\n",
    "    plt.figure(figsize=(12,6))\n",
    "    width = 2\n",
    "    plt.bar(country.Year, country['Male'], width=width)\n",
    "    plt.bar(country.Year, country['Female'],width=width)\n",
    "    plt.title('{}'.format(df))\n",
    "    plt.show"
   ]
  },
  {
   "cell_type": "code",
   "execution_count": 230,
   "id": "changed-momentum",
   "metadata": {},
   "outputs": [
    {
     "data": {
      "image/png": "[encoded data removed]",
      "text/plain": [
       "<Figure size 864x432 with 1 Axes>"
      ]
     },
     "metadata": {
      "needs_background": "light"
     },
     "output_type": "display_data"
    }
   ],
   "source": [
    "barplot('Venezuela')"
   ]
  },
  {
   "cell_type": "code",
   "execution_count": null,
   "id": "mental-potter",
   "metadata": {},
   "outputs": [],
   "source": []
  }
 ],
 "metadata": {
  "kernelspec": {
   "display_name": "Python 3",
   "language": "python",
   "name": "python3"
  },
  "language_info": {
   "codemirror_mode": {
    "name": "ipython",
    "version": 3
   },
   "file_extension": ".py",
   "mimetype": "text/x-python",
   "name": "python",
   "nbconvert_exporter": "python",
   "pygments_lexer": "ipython3",
   "version": "3.9.1"
  }
 },
 "nbformat": 4,
 "nbformat_minor": 5
}
