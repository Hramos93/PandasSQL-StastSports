{
 "cells": [
  {
   "cell_type": "code",
   "execution_count": 8,
   "id": "excessive-maple",
   "metadata": {},
   "outputs": [],
   "source": [
    "import pandas as pd\n",
    "from pandasql import sqldf \n",
    "import numpy as np\n",
    "import matplotlib.pyplot as plt\n",
    "\n",
    "from itertools import product"
   ]
  },
  {
   "cell_type": "code",
   "execution_count": 9,
   "id": "changed-graphics",
   "metadata": {},
   "outputs": [],
   "source": [
    "sql = lambda q: sqldf(q, globals())\n",
    "df = pd.read_csv(\"athlete_events.csv\")\n"
   ]
  },
  {
   "cell_type": "markdown",
   "id": "funded-tract",
   "metadata": {},
   "source": [
    "### Clean"
   ]
  },
  {
   "cell_type": "code",
   "execution_count": 10,
   "id": "conscious-inspiration",
   "metadata": {},
   "outputs": [],
   "source": [
    "def clean(bbd:str,columns:list):\n",
    "    qry = sql('''\n",
    "    SELECT\n",
    "    {1}\n",
    "    FROM {0}\n",
    "    '''.format(bbd,str(columns)[1:-1].replace(\"'\" , \"\")))\n",
    "    return qry"
   ]
  },
  {
   "cell_type": "markdown",
   "id": "institutional-coach",
   "metadata": {},
   "source": [
    "in this report, we going to explain how can to see  discrimination of gender in sports in the previous years,\n",
    "To beginning, we going to exclude from the analysis the names of participants as this will be not relevant for the report, also going to make cleaning to different columns that have inconsistencies in their values, for example, the column Team has the same teams with different names."
   ]
  },
  {
   "cell_type": "code",
   "execution_count": 11,
   "id": "shaped-start",
   "metadata": {},
   "outputs": [],
   "source": [
    "columns = 'ID','Sex','Age','Height','Weight','Team','Year','Season','City','Sport'\n",
    "newdf = clean('df',columns)\n",
    "newdf = newdf.dropna(subset=['Age','Height','Weight'])\n",
    "newdf.Team= newdf.Team.str.replace('[\\d+\\W]','', regex=True)"
   ]
  },
  {
   "cell_type": "markdown",
   "id": "comic-aruba",
   "metadata": {},
   "source": [
    "we Going to make a function that separates genders in two data frames, it is to make an analysis without bias for gender. "
   ]
  },
  {
   "cell_type": "code",
   "execution_count": 12,
   "id": "manufactured-antarctica",
   "metadata": {},
   "outputs": [],
   "source": [
    "def sex(bbd, columns:list, sex:str):\n",
    "    qry = sql('''\n",
    "    SELECT\n",
    "    {1}\n",
    "    FROM {0}\n",
    "    WHERE Sex = \"{2}\"\n",
    "    '''.format(bbd,str(columns)[1:-1].replace(\"'\" , \"\"), sex))\n",
    "    return qry"
   ]
  },
  {
   "cell_type": "code",
   "execution_count": 13,
   "id": "comprehensive-politics",
   "metadata": {},
   "outputs": [
    {
     "name": "stdout",
     "output_type": "stream",
     "text": [
      " Shape Male DataFrame (139454, 10) \n",
      " Shape Female DataFrame (66711, 10)\n"
     ]
    }
   ],
   "source": [
    "Male = sex('newdf',columns,'M')\n",
    "Female = sex('newdf', columns, 'F')\n",
    "print(' Shape Male DataFrame {} \\n Shape Female DataFrame {}'.format(Male.shape, Female.shape))"
   ]
  },
  {
   "cell_type": "markdown",
   "id": "aboriginal-advisory",
   "metadata": {},
   "source": [
    "In this step we did a function to count the frequency of values in different column, in the next step is possible to see, a table with frequentist of age by gender.\n"
   ]
  },
  {
   "cell_type": "code",
   "execution_count": 14,
   "id": "unexpected-repair",
   "metadata": {},
   "outputs": [],
   "source": [
    "def Count(bbd:str, column:str):\n",
    "    qry= sql('''\n",
    "    SELECT\n",
    "    {1},\n",
    "    COUNT({1}) as count\n",
    "    FROM {0}\n",
    "    GROUP BY {1}\n",
    "    '''.format(bbd,column))\n",
    "    return qry"
   ]
  },
  {
   "cell_type": "code",
   "execution_count": 15,
   "id": "harmful-excuse",
   "metadata": {},
   "outputs": [
    {
     "data": {
      "text/html": [
       "<div>\n",
       "<style scoped>\n",
       "    .dataframe tbody tr th:only-of-type {\n",
       "        vertical-align: middle;\n",
       "    }\n",
       "\n",
       "    .dataframe tbody tr th {\n",
       "        vertical-align: top;\n",
       "    }\n",
       "\n",
       "    .dataframe thead th {\n",
       "        text-align: right;\n",
       "    }\n",
       "</style>\n",
       "<table border=\"1\" class=\"dataframe\">\n",
       "  <thead>\n",
       "    <tr style=\"text-align: right;\">\n",
       "      <th></th>\n",
       "      <th>Age</th>\n",
       "      <th>count</th>\n",
       "    </tr>\n",
       "  </thead>\n",
       "  <tbody>\n",
       "    <tr>\n",
       "      <th>Male</th>\n",
       "      <td>71.0</td>\n",
       "      <td>1</td>\n",
       "    </tr>\n",
       "    <tr>\n",
       "      <th>Male</th>\n",
       "      <td>70.0</td>\n",
       "      <td>2</td>\n",
       "    </tr>\n",
       "    <tr>\n",
       "      <th>Female</th>\n",
       "      <td>69.0</td>\n",
       "      <td>2</td>\n",
       "    </tr>\n",
       "    <tr>\n",
       "      <th>Male</th>\n",
       "      <td>68.0</td>\n",
       "      <td>1</td>\n",
       "    </tr>\n",
       "    <tr>\n",
       "      <th>Male</th>\n",
       "      <td>67.0</td>\n",
       "      <td>2</td>\n",
       "    </tr>\n",
       "    <tr>\n",
       "      <th>...</th>\n",
       "      <td>...</td>\n",
       "      <td>...</td>\n",
       "    </tr>\n",
       "    <tr>\n",
       "      <th>Female</th>\n",
       "      <td>13.0</td>\n",
       "      <td>133</td>\n",
       "    </tr>\n",
       "    <tr>\n",
       "      <th>Male</th>\n",
       "      <td>13.0</td>\n",
       "      <td>28</td>\n",
       "    </tr>\n",
       "    <tr>\n",
       "      <th>Female</th>\n",
       "      <td>12.0</td>\n",
       "      <td>24</td>\n",
       "    </tr>\n",
       "    <tr>\n",
       "      <th>Male</th>\n",
       "      <td>12.0</td>\n",
       "      <td>3</td>\n",
       "    </tr>\n",
       "    <tr>\n",
       "      <th>Female</th>\n",
       "      <td>11.0</td>\n",
       "      <td>6</td>\n",
       "    </tr>\n",
       "  </tbody>\n",
       "</table>\n",
       "<p>114 rows × 2 columns</p>\n",
       "</div>"
      ],
      "text/plain": [
       "         Age  count\n",
       "Male    71.0      1\n",
       "Male    70.0      2\n",
       "Female  69.0      2\n",
       "Male    68.0      1\n",
       "Male    67.0      2\n",
       "...      ...    ...\n",
       "Female  13.0    133\n",
       "Male    13.0     28\n",
       "Female  12.0     24\n",
       "Male    12.0      3\n",
       "Female  11.0      6\n",
       "\n",
       "[114 rows x 2 columns]"
      ]
     },
     "execution_count": 15,
     "metadata": {},
     "output_type": "execute_result"
    }
   ],
   "source": [
    "countageM = Count('Male','Age')\n",
    "countageF = Count('Female','Age')\n",
    "count = pd.concat([countageM,countageF],keys=['Male','Female']).droplevel(level=1)\n",
    "count.sort_values(by='Age', ascending=False)"
   ]
  },
  {
   "cell_type": "markdown",
   "id": "antique-compact",
   "metadata": {},
   "source": [
    "#### Distribution of age by gender."
   ]
  },
  {
   "cell_type": "code",
   "execution_count": 16,
   "id": "southwest-navigation",
   "metadata": {},
   "outputs": [
    {
     "data": {
      "image/png": "[encoded data removed]",
      "text/plain": [
       "<Figure size 432x288 with 1 Axes>"
      ]
     },
     "metadata": {
      "needs_background": "light"
     },
     "output_type": "display_data"
    }
   ],
   "source": [
    "fig, ax = plt.subplots()\n",
    "M = ax.bar(countageM['Age'],countageM['count'], label='Male', alpha=0.6)\n",
    "F = ax.bar(countageF['Age'], countageF['count'], label='Female', alpha=0.6)\n",
    "ax.legend()\n",
    "plt.title('Distribution of age by gender')\n",
    "plt.grid()\n",
    "plt.show()"
   ]
  },
  {
   "cell_type": "markdown",
   "id": "smooth-reflection",
   "metadata": {},
   "source": [
    "#### Stast \n",
    "How is the minimum age of participation in Male, what is average, how will be max? this is the same for Women, those questions will be answered in the next block with this function. "
   ]
  },
  {
   "cell_type": "code",
   "execution_count": 17,
   "id": "gorgeous-timeline",
   "metadata": {},
   "outputs": [],
   "source": [
    "def stast(bbd:str, column, sex:str):\n",
    "    qry=sql('''\n",
    "    SELECT\n",
    "    min({1}) as min,\n",
    "    ROUND(avg({1}),2) as avg,\n",
    "    max({1}) as max\n",
    "    FROM {0}\n",
    "    '''.format(bbd, column,sex))\n",
    "    return qry"
   ]
  },
  {
   "cell_type": "code",
   "execution_count": 18,
   "id": "entire-thumb",
   "metadata": {},
   "outputs": [
    {
     "data": {
      "text/html": [
       "<div>\n",
       "<style scoped>\n",
       "    .dataframe tbody tr th:only-of-type {\n",
       "        vertical-align: middle;\n",
       "    }\n",
       "\n",
       "    .dataframe tbody tr th {\n",
       "        vertical-align: top;\n",
       "    }\n",
       "\n",
       "    .dataframe thead th {\n",
       "        text-align: right;\n",
       "    }\n",
       "</style>\n",
       "<table border=\"1\" class=\"dataframe\">\n",
       "  <thead>\n",
       "    <tr style=\"text-align: right;\">\n",
       "      <th></th>\n",
       "      <th>min</th>\n",
       "      <th>avg</th>\n",
       "      <th>max</th>\n",
       "    </tr>\n",
       "  </thead>\n",
       "  <tbody>\n",
       "    <tr>\n",
       "      <th>Male</th>\n",
       "      <td>12.0</td>\n",
       "      <td>41.03</td>\n",
       "      <td>71.0</td>\n",
       "    </tr>\n",
       "    <tr>\n",
       "      <th>Female</th>\n",
       "      <td>11.0</td>\n",
       "      <td>38.22</td>\n",
       "      <td>69.0</td>\n",
       "    </tr>\n",
       "  </tbody>\n",
       "</table>\n",
       "</div>"
      ],
      "text/plain": [
       "         min    avg   max\n",
       "Male    12.0  41.03  71.0\n",
       "Female  11.0  38.22  69.0"
      ]
     },
     "execution_count": 18,
     "metadata": {},
     "output_type": "execute_result"
    }
   ],
   "source": [
    "stastM = stast('countageM','Age','Male')\n",
    "stastF = stast('countageF', 'Age','Female')\n",
    "summary = pd.concat([stastM,stastF],keys=['Male','Female']).droplevel(level=1)\n",
    "summary"
   ]
  },
  {
   "cell_type": "code",
   "execution_count": 19,
   "id": "latest-emerald",
   "metadata": {},
   "outputs": [],
   "source": [
    "def stastplot(df:pd.DataFrame):\n",
    "    \n",
    "    assert type(df) == pd.DataFrame, \"First parameter should be a DataFrame\"\n",
    "    \n",
    "    x = np.arange(len(df.iloc[0].index))\n",
    "    width = 0.2\n",
    "    for i in range(0,len(summary),1):\n",
    "        if i <= 0:\n",
    "            plt.bar(x , df.iloc[i], width=0.2, label='Male',alpha=0.6)\n",
    "        else:\n",
    "            plt.bar(x + (width*1), df.iloc[i],width=0.2, label='Female',alpha=0.6)\n",
    "    plt.xticks(x, ['min','avg','max'], horizontalalignment=\"left\")\n",
    "    plt.legend()\n",
    "    plt.grid(alpha=0.5)\n",
    "    plt.show()\n",
    "    "
   ]
  },
  {
   "cell_type": "markdown",
   "id": "lightweight-mount",
   "metadata": {},
   "source": [
    "#### Stastplot"
   ]
  },
  {
   "cell_type": "code",
   "execution_count": 20,
   "id": "hearing-diagram",
   "metadata": {},
   "outputs": [
    {
     "data": {
      "image/png": "[encoded data removed]",
      "text/plain": [
       "<Figure size 432x288 with 1 Axes>"
      ]
     },
     "metadata": {
      "needs_background": "light"
     },
     "output_type": "display_data"
    }
   ],
   "source": [
    "stastplot(summary)"
   ]
  },
  {
   "cell_type": "markdown",
   "id": "elementary-domestic",
   "metadata": {},
   "source": [
    "#### Count Sex by Team\n",
    "In this step we want to answer the question about what are the teams with more and fewer participants by gender, but for this, we can't simply compare columns, we going to create an index that will be a relation between quantity men vs women, this way we could know what are countries whit the same relative participation (values near to 0, or unequal participation (values most to 1)"
   ]
  },
  {
   "cell_type": "code",
   "execution_count": 21,
   "id": "worst-replacement",
   "metadata": {},
   "outputs": [],
   "source": [
    "def team(bdd, groupby:str, orderby:str):\n",
    "    qry = sql('''\n",
    "    SELECT\n",
    "    Team,\n",
    "    Count({count}) as count\n",
    "    FROM {df}\n",
    "    Group by {group}\n",
    "    Order by {order} desc\n",
    "    '''.format(count = 'ID', df=bdd, group=groupby,order=orderby))\n",
    "    return qry\n"
   ]
  },
  {
   "cell_type": "code",
   "execution_count": 22,
   "id": "accessible-fault",
   "metadata": {},
   "outputs": [],
   "source": [
    "M = team('Male','Team','count')\n",
    "F = team('Female','Team','count')"
   ]
  },
  {
   "cell_type": "code",
   "execution_count": 23,
   "id": "stunning-bridges",
   "metadata": {},
   "outputs": [],
   "source": [
    "def joinMF():\n",
    "    qry = sql('''\n",
    "    -- METRICS\n",
    "    SELECT\n",
    "    Team,\n",
    "    Mcount,\n",
    "    Fcount,\n",
    "    (Mcount - Fcount) as diference,\n",
    "    ROUND(CAST(Mcount as float) / CAST(Fcount as float),2)  as div\n",
    "    FROM\n",
    "    (-- FILL VALUE WITH 0 WHERE FCOUNT IS NAN\n",
    "    SELECT\n",
    "    Team,\n",
    "    Mcount,\n",
    "    COALESCE(Fcount,0) as Fcount\n",
    "    FROM \n",
    "    ( -- JOIN TABLE M,F\n",
    "    SELECT\n",
    "    M.Team,\n",
    "    M.count as Mcount,\n",
    "    F.count as Fcount\n",
    "    FROM M \n",
    "    LEFT JOIN F\n",
    "    ON M.Team = F.Team))\n",
    "    ''')\n",
    "    return qry\n",
    "\n"
   ]
  },
  {
   "cell_type": "code",
   "execution_count": 24,
   "id": "welcome-employment",
   "metadata": {},
   "outputs": [],
   "source": [
    "joinMF = joinMF()\n",
    "joinMF = joinMF[~joinMF['div'].isnull()]"
   ]
  },
  {
   "cell_type": "code",
   "execution_count": 25,
   "id": "fundamental-links",
   "metadata": {},
   "outputs": [],
   "source": [
    "joinMF50 = joinMF.sort_values(by='div', ascending=False).head(50)"
   ]
  },
  {
   "cell_type": "markdown",
   "id": "liberal-horizontal",
   "metadata": {},
   "source": [
    "Here we can see that the countries with the higher index or unequal participation by gender are countries with association cultures where women have low participation in activities."
   ]
  },
  {
   "cell_type": "markdown",
   "id": "civilian-recorder",
   "metadata": {},
   "source": [
    "### Plot relation between men vs women"
   ]
  },
  {
   "cell_type": "code",
   "execution_count": 26,
   "id": "defensive-baker",
   "metadata": {},
   "outputs": [
    {
     "data": {
      "image/png": "[encoded data removed]",
      "text/plain": [
       "<Figure size 864x432 with 1 Axes>"
      ]
     },
     "metadata": {
      "needs_background": "light"
     },
     "output_type": "display_data"
    }
   ],
   "source": [
    "plt.figure(figsize=(12,6))\n",
    "plt.bar(joinMF50['Team'],joinMF50['div'])\n",
    "plt.xticks(rotation=45,horizontalalignment=\"right\")\n",
    "plt.title(\"Relation between quantity men and women by team\")\n",
    "plt.show()"
   ]
  },
  {
   "cell_type": "markdown",
   "id": "unknown-laser",
   "metadata": {},
   "source": [
    "How the participation has affected by year? is there countries with improvements in its political for partipation inclusive of all sex?\n"
   ]
  },
  {
   "cell_type": "code",
   "execution_count": 27,
   "id": "collectible-secretariat",
   "metadata": {},
   "outputs": [],
   "source": [
    "teamByYear = pd.DataFrame(Male.groupby(['Team','Year']).count()['ID'])"
   ]
  },
  {
   "cell_type": "code",
   "execution_count": 28,
   "id": "talented-rainbow",
   "metadata": {},
   "outputs": [],
   "source": [
    "def teambyyear(df:str):    \n",
    "    qry = sql('''\n",
    "    SELECT\n",
    "    Team,\n",
    "    Year,\n",
    "    Count('ID') as count{0}\n",
    "    FROM {0}\n",
    "    Group by Team,Year\n",
    "    '''.format(df))\n",
    "    return qry\n"
   ]
  },
  {
   "cell_type": "code",
   "execution_count": 29,
   "id": "increased-hamilton",
   "metadata": {},
   "outputs": [],
   "source": [
    "M = teambyyear('Male')\n",
    "F = teambyyear('Female')"
   ]
  },
  {
   "cell_type": "code",
   "execution_count": 30,
   "id": "split-warning",
   "metadata": {},
   "outputs": [],
   "source": [
    "testM = M[M['Team'] == 'Iran'] \n",
    "testF = F[F['Team'] == 'Iran']\n"
   ]
  },
  {
   "cell_type": "code",
   "execution_count": 31,
   "id": "announced-holocaust",
   "metadata": {},
   "outputs": [],
   "source": [
    "def country(country:str, team='Team'):\n",
    "    Male =M[M[team] ==country]\n",
    "    Fem = F[F[team] == country]\n",
    "    merge = Male.merge(Fem, on='Year', how='left')\n",
    "    merge = merge.fillna(0)\n",
    "    merge = merge.drop(['Team_y'],axis=1)\n",
    "    merge.columns = ['Country','Year','Male','Female']\n",
    "    return merge"
   ]
  },
  {
   "cell_type": "code",
   "execution_count": 32,
   "id": "fresh-entrance",
   "metadata": {},
   "outputs": [],
   "source": [
    "def teambycountry(country):\n",
    "    qry=sql('''\n",
    "    SELECT\n",
    "    Team,\n",
    "    Year,\n",
    "    Male,\n",
    "    COALESCE(Female,0) as Female\n",
    "    FROM (\n",
    "    -- SELECT COLUMNS\n",
    "    SELECT\n",
    "    M.Team,\n",
    "    M.Year,\n",
    "    M.countMale as Male,\n",
    "    F.countFemale as Female\n",
    "    FROM\n",
    "    -- JOIN M with F\n",
    "    (SELECT\n",
    "    *\n",
    "    FROM M\n",
    "    WHERE Team = \"{0}\") as M\n",
    "    LEFT  JOIN (\n",
    "    -- DATASET FEMALE\n",
    "    SELECT\n",
    "    *\n",
    "    FROM F\n",
    "    WHERE Team =\"{0}\") as F\n",
    "    ON M.Year = F.Year)\n",
    "    '''.format(country))\n",
    "    return qry"
   ]
  },
  {
   "cell_type": "code",
   "execution_count": 33,
   "id": "unexpected-constitution",
   "metadata": {},
   "outputs": [],
   "source": [
    "def barplot(df):\n",
    "    country = teambycountry(df)\n",
    "    plt.figure(figsize=(12,6))\n",
    "    width = 2\n",
    "    plt.bar(country.Year, country['Male'], width=width)\n",
    "    plt.bar(country.Year, country['Female'],width=width)\n",
    "    plt.title('{}'.format(df))\n",
    "    plt.show"
   ]
  },
  {
   "cell_type": "code",
   "execution_count": 34,
   "id": "sporting-display",
   "metadata": {},
   "outputs": [],
   "source": [
    "countries = ['Kuwait','Pakistan','SaudiArabia','Qatar','Iraq','Oman','SouthVietnam','UnitedArabEmirates']"
   ]
  },
  {
   "cell_type": "code",
   "execution_count": 35,
   "id": "dried-tradition",
   "metadata": {},
   "outputs": [
    {
     "data": {
      "image/png": "[encoded data removed]",
      "text/plain": [
       "<Figure size 1080x648 with 8 Axes>"
      ]
     },
     "metadata": {
      "needs_background": "light"
     },
     "output_type": "display_data"
    }
   ],
   "source": [
    "fig, ax = plt.subplots(2,4, figsize=(15,9))\n",
    "fig.suptitle('Countries')\n",
    "for i,j in zip(countries,list(product(range(0,2,1),range(0,4,1)))):\n",
    "    country= teambycountry(i)\n",
    "    ax[j].bar(country.Year, country['Male'])\n",
    "    ax[j].bar(country.Year, country['Female'])\n",
    "    ax[j].set_title('{}'.format(i))\n",
    "   \n"
   ]
  },
  {
   "cell_type": "markdown",
   "id": "molecular-world",
   "metadata": {},
   "source": [
    "In the previous graph is possible to see that any countries in particular currently yet there is discrimination in the participation of women in sports, with gaps very  pronounced"
   ]
  },
  {
   "cell_type": "code",
   "execution_count": 36,
   "id": "geographic-vietnam",
   "metadata": {},
   "outputs": [
    {
     "data": {
      "text/html": [
       "<div>\n",
       "<style scoped>\n",
       "    .dataframe tbody tr th:only-of-type {\n",
       "        vertical-align: middle;\n",
       "    }\n",
       "\n",
       "    .dataframe tbody tr th {\n",
       "        vertical-align: top;\n",
       "    }\n",
       "\n",
       "    .dataframe thead th {\n",
       "        text-align: right;\n",
       "    }\n",
       "</style>\n",
       "<table border=\"1\" class=\"dataframe\">\n",
       "  <thead>\n",
       "    <tr style=\"text-align: right;\">\n",
       "      <th></th>\n",
       "      <th>Team</th>\n",
       "      <th>Mcount</th>\n",
       "      <th>Fcount</th>\n",
       "      <th>diference</th>\n",
       "      <th>div</th>\n",
       "    </tr>\n",
       "  </thead>\n",
       "  <tbody>\n",
       "    <tr>\n",
       "      <th>276</th>\n",
       "      <td>Kosovo</td>\n",
       "      <td>3</td>\n",
       "      <td>5</td>\n",
       "      <td>-2</td>\n",
       "      <td>0.60</td>\n",
       "    </tr>\n",
       "    <tr>\n",
       "      <th>19</th>\n",
       "      <td>China</td>\n",
       "      <td>2199</td>\n",
       "      <td>2679</td>\n",
       "      <td>-480</td>\n",
       "      <td>0.82</td>\n",
       "    </tr>\n",
       "    <tr>\n",
       "      <th>203</th>\n",
       "      <td>Palau</td>\n",
       "      <td>11</td>\n",
       "      <td>13</td>\n",
       "      <td>-2</td>\n",
       "      <td>0.85</td>\n",
       "    </tr>\n",
       "    <tr>\n",
       "      <th>220</th>\n",
       "      <td>MarshallIslands</td>\n",
       "      <td>6</td>\n",
       "      <td>7</td>\n",
       "      <td>-1</td>\n",
       "      <td>0.86</td>\n",
       "    </tr>\n",
       "    <tr>\n",
       "      <th>216</th>\n",
       "      <td>CapeVerde</td>\n",
       "      <td>8</td>\n",
       "      <td>9</td>\n",
       "      <td>-1</td>\n",
       "      <td>0.89</td>\n",
       "    </tr>\n",
       "    <tr>\n",
       "      <th>109</th>\n",
       "      <td>Angola</td>\n",
       "      <td>122</td>\n",
       "      <td>123</td>\n",
       "      <td>-1</td>\n",
       "      <td>0.99</td>\n",
       "    </tr>\n",
       "    <tr>\n",
       "      <th>244</th>\n",
       "      <td>TimorLeste</td>\n",
       "      <td>3</td>\n",
       "      <td>3</td>\n",
       "      <td>0</td>\n",
       "      <td>1.00</td>\n",
       "    </tr>\n",
       "    <tr>\n",
       "      <th>435</th>\n",
       "      <td>Twinkle</td>\n",
       "      <td>1</td>\n",
       "      <td>1</td>\n",
       "      <td>0</td>\n",
       "      <td>1.00</td>\n",
       "    </tr>\n",
       "    <tr>\n",
       "      <th>198</th>\n",
       "      <td>SaintLucia</td>\n",
       "      <td>14</td>\n",
       "      <td>13</td>\n",
       "      <td>1</td>\n",
       "      <td>1.08</td>\n",
       "    </tr>\n",
       "    <tr>\n",
       "      <th>126</th>\n",
       "      <td>Vietnam</td>\n",
       "      <td>77</td>\n",
       "      <td>69</td>\n",
       "      <td>8</td>\n",
       "      <td>1.12</td>\n",
       "    </tr>\n",
       "  </tbody>\n",
       "</table>\n",
       "</div>"
      ],
      "text/plain": [
       "                Team  Mcount  Fcount  diference   div\n",
       "276           Kosovo       3       5         -2  0.60\n",
       "19             China    2199    2679       -480  0.82\n",
       "203            Palau      11      13         -2  0.85\n",
       "220  MarshallIslands       6       7         -1  0.86\n",
       "216        CapeVerde       8       9         -1  0.89\n",
       "109           Angola     122     123         -1  0.99\n",
       "244       TimorLeste       3       3          0  1.00\n",
       "435          Twinkle       1       1          0  1.00\n",
       "198       SaintLucia      14      13          1  1.08\n",
       "126          Vietnam      77      69          8  1.12"
      ]
     },
     "execution_count": 36,
     "metadata": {},
     "output_type": "execute_result"
    }
   ],
   "source": [
    "joinMF50 = joinMF.sort_values(by='div', ascending=True).head(50)\n",
    "joinMF50.head(10)"
   ]
  },
  {
   "cell_type": "code",
   "execution_count": 37,
   "id": "worthy-nightmare",
   "metadata": {},
   "outputs": [],
   "source": [
    "countries = ['China','Palau','MarshallIslands','CapeVerde','Angola','TimorLeste','SaintLucia','Vietnam']"
   ]
  },
  {
   "cell_type": "code",
   "execution_count": 38,
   "id": "initial-recorder",
   "metadata": {},
   "outputs": [
    {
     "data": {
      "image/png": "[encoded data removed]",
      "text/plain": [
       "<Figure size 1080x648 with 8 Axes>"
      ]
     },
     "metadata": {
      "needs_background": "light"
     },
     "output_type": "display_data"
    }
   ],
   "source": [
    "fig, ax = plt.subplots(2,4, figsize=(15,9))\n",
    "fig.suptitle('Countries')\n",
    "for i,j in zip(countries,list(product(range(0,2,1),range(0,4,1)))):\n",
    "    country= teambycountry(i)\n",
    "    ax[j].bar(country.Year, country['Male'], label='Male')\n",
    "    ax[j].bar(country.Year, country['Female'],label='Female ')\n",
    "    ax[j].set_title('{}'.format(i))\n",
    "    ax[j].legend()\n",
    "   "
   ]
  },
  {
   "cell_type": "markdown",
   "id": "handy-railway",
   "metadata": {},
   "source": [
    "on the other hand, also there is countries where the participation of women is more that men."
   ]
  },
  {
   "cell_type": "markdown",
   "id": "accepting-mention",
   "metadata": {},
   "source": [
    "### CORRELATION "
   ]
  },
  {
   "cell_type": "code",
   "execution_count": 39,
   "id": "casual-bumper",
   "metadata": {},
   "outputs": [],
   "source": [
    "def encoding():\n",
    "    df = sql('''\n",
    "    SELECT\n",
    "    Age,\n",
    "    Height,\n",
    "    Weight,\n",
    "    Year,\n",
    "    Season,\n",
    "    City,\n",
    "    Sport,\n",
    "    CASE\n",
    "        WHEN Sex='M' THEN 1\n",
    "        ELSE 0\n",
    "        END AS Gender,\n",
    "    CASE\n",
    "        WHEN Season='Summer' THEN 1\n",
    "        ELSE 0\n",
    "        END AS Seasonn\n",
    "    FROM newdf''')\n",
    "    return df\n",
    "newdf=encoding()"
   ]
  },
  {
   "cell_type": "markdown",
   "id": "labeled-cocktail",
   "metadata": {},
   "source": [
    "Now we going to show the correlation between columns and to see if is possible to find any relation between columns and gender, I mean,is the year participation a deteminant for inclusion of women in sport? \n"
   ]
  },
  {
   "cell_type": "code",
   "execution_count": 40,
   "id": "helpful-gender",
   "metadata": {},
   "outputs": [
    {
     "data": {
      "text/html": [
       "<div>\n",
       "<style scoped>\n",
       "    .dataframe tbody tr th:only-of-type {\n",
       "        vertical-align: middle;\n",
       "    }\n",
       "\n",
       "    .dataframe tbody tr th {\n",
       "        vertical-align: top;\n",
       "    }\n",
       "\n",
       "    .dataframe thead th {\n",
       "        text-align: right;\n",
       "    }\n",
       "</style>\n",
       "<table border=\"1\" class=\"dataframe\">\n",
       "  <thead>\n",
       "    <tr style=\"text-align: right;\">\n",
       "      <th></th>\n",
       "      <th>key_0</th>\n",
       "      <th>Age</th>\n",
       "      <th>Height</th>\n",
       "      <th>Weight</th>\n",
       "      <th>Year</th>\n",
       "      <th>Season</th>\n",
       "      <th>Gender</th>\n",
       "      <th>Seasonn</th>\n",
       "      <th>City</th>\n",
       "      <th>Sport</th>\n",
       "    </tr>\n",
       "  </thead>\n",
       "  <tbody>\n",
       "    <tr>\n",
       "      <th>0</th>\n",
       "      <td>0</td>\n",
       "      <td>24.0</td>\n",
       "      <td>180.0</td>\n",
       "      <td>80.0</td>\n",
       "      <td>1992</td>\n",
       "      <td>Summer</td>\n",
       "      <td>1</td>\n",
       "      <td>1</td>\n",
       "      <td>5.0</td>\n",
       "      <td>6.0</td>\n",
       "    </tr>\n",
       "    <tr>\n",
       "      <th>1</th>\n",
       "      <td>1</td>\n",
       "      <td>23.0</td>\n",
       "      <td>170.0</td>\n",
       "      <td>60.0</td>\n",
       "      <td>2012</td>\n",
       "      <td>Summer</td>\n",
       "      <td>1</td>\n",
       "      <td>1</td>\n",
       "      <td>17.0</td>\n",
       "      <td>26.0</td>\n",
       "    </tr>\n",
       "    <tr>\n",
       "      <th>2</th>\n",
       "      <td>2</td>\n",
       "      <td>21.0</td>\n",
       "      <td>185.0</td>\n",
       "      <td>82.0</td>\n",
       "      <td>1988</td>\n",
       "      <td>Winter</td>\n",
       "      <td>0</td>\n",
       "      <td>0</td>\n",
       "      <td>8.0</td>\n",
       "      <td>43.0</td>\n",
       "    </tr>\n",
       "    <tr>\n",
       "      <th>3</th>\n",
       "      <td>3</td>\n",
       "      <td>21.0</td>\n",
       "      <td>185.0</td>\n",
       "      <td>82.0</td>\n",
       "      <td>1988</td>\n",
       "      <td>Winter</td>\n",
       "      <td>0</td>\n",
       "      <td>0</td>\n",
       "      <td>8.0</td>\n",
       "      <td>43.0</td>\n",
       "    </tr>\n",
       "    <tr>\n",
       "      <th>4</th>\n",
       "      <td>4</td>\n",
       "      <td>25.0</td>\n",
       "      <td>185.0</td>\n",
       "      <td>82.0</td>\n",
       "      <td>1992</td>\n",
       "      <td>Winter</td>\n",
       "      <td>0</td>\n",
       "      <td>0</td>\n",
       "      <td>0.0</td>\n",
       "      <td>43.0</td>\n",
       "    </tr>\n",
       "  </tbody>\n",
       "</table>\n",
       "</div>"
      ],
      "text/plain": [
       "   key_0   Age  Height  Weight  Year  Season  Gender  Seasonn  City  Sport\n",
       "0      0  24.0   180.0    80.0  1992  Summer       1        1   5.0    6.0\n",
       "1      1  23.0   170.0    60.0  2012  Summer       1        1  17.0   26.0\n",
       "2      2  21.0   185.0    82.0  1988  Winter       0        0   8.0   43.0\n",
       "3      3  21.0   185.0    82.0  1988  Winter       0        0   8.0   43.0\n",
       "4      4  25.0   185.0    82.0  1992  Winter       0        0   0.0   43.0"
      ]
     },
     "execution_count": 40,
     "metadata": {},
     "output_type": "execute_result"
    }
   ],
   "source": [
    "from sklearn.preprocessing import OrdinalEncoder\n",
    "column = newdf[['City','Sport']]\n",
    "enc =  OrdinalEncoder()\n",
    "epa = enc.fit_transform(column)\n",
    "newdf = newdf.drop(column,axis=1).merge(pd.DataFrame(epa, columns=['City','Sport']), on=newdf.index)\n",
    "newdf.head()"
   ]
  },
  {
   "cell_type": "code",
   "execution_count": 41,
   "id": "similar-utilization",
   "metadata": {},
   "outputs": [],
   "source": [
    "import seaborn as sns\n",
    "def corr(df):\n",
    "    corr = df.drop(['key_0','Season'],axis=1).corr()\n",
    "    mask = np.triu(np.ones_like(corr, dtype=bool))\n",
    "    f, ax = plt.subplots(figsize=(11, 9))\n",
    "    cmap = sns.diverging_palette(230, 20, as_cmap=True)\n",
    "    sns.heatmap(corr, mask=mask, cmap=cmap, vmax=.3, center=0,\n",
    "            square=True, linewidths=.5, cbar_kws={\"shrink\": .5})\n",
    "    plt.title('Correlation Matrix')\n",
    "    plt.show()"
   ]
  },
  {
   "cell_type": "markdown",
   "id": "bibliographic-circumstances",
   "metadata": {},
   "source": [
    "In the next graph is possible to see that if there is a mild relation between year and its influence on Gender, but this is not sufficient to explain discrimination for women in sports."
   ]
  },
  {
   "cell_type": "code",
   "execution_count": 42,
   "id": "cross-medication",
   "metadata": {},
   "outputs": [
    {
     "data": {
      "image/png": "[encoded data removed]",
      "text/plain": [
       "<Figure size 792x648 with 2 Axes>"
      ]
     },
     "metadata": {
      "needs_background": "light"
     },
     "output_type": "display_data"
    }
   ],
   "source": [
    "corr(newdf)"
   ]
  }
 ],
 "metadata": {
  "kernelspec": {
   "display_name": "Python 3",
   "language": "python",
   "name": "python3"
  },
  "language_info": {
   "codemirror_mode": {
    "name": "ipython",
    "version": 3
   },
   "file_extension": ".py",
   "mimetype": "text/x-python",
   "name": "python",
   "nbconvert_exporter": "python",
   "pygments_lexer": "ipython3",
   "version": "3.9.1"
  }
 },
 "nbformat": 4,
 "nbformat_minor": 5
}
