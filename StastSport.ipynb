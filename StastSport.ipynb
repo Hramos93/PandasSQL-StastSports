{
 "cells": [
  {
   "cell_type": "code",
   "execution_count": 1,
   "id": "false-zimbabwe",
   "metadata": {},
   "outputs": [],
   "source": [
    "import pandas as pd\n",
    "from pandasql import sqldf \n",
    "import numpy as np\n",
    "import matplotlib.pyplot as plt\n",
    "\n",
    "import re\n",
    "import traceback"
   ]
  },
  {
   "cell_type": "code",
   "execution_count": 2,
   "id": "adjacent-myanmar",
   "metadata": {},
   "outputs": [],
   "source": [
    "## Varname\n",
    "def varname(var):\n",
    "    stack = traceback.extract_stack()\n",
    "    filename, lineno, function_name, code = stack[-2]\n",
    "    vars_name = re.compile(r'\\((.*?)\\).*$').search(code).groups()[0]\n",
    "    return vars_name"
   ]
  },
  {
   "cell_type": "code",
   "execution_count": 3,
   "id": "helpful-xerox",
   "metadata": {},
   "outputs": [
    {
     "data": {
      "text/plain": [
       "Index(['ID', 'Name', 'Sex', 'Age', 'Height', 'Weight', 'Team', 'NOC', 'Games',\n",
       "       'Year', 'Season', 'City', 'Sport', 'Event', 'Medal'],\n",
       "      dtype='object')"
      ]
     },
     "execution_count": 3,
     "metadata": {},
     "output_type": "execute_result"
    }
   ],
   "source": [
    "sql = lambda q: sqldf(q, globals())\n",
    "df = pd.read_csv(\"athlete_events.csv\")\n",
    "df.columns"
   ]
  },
  {
   "cell_type": "code",
   "execution_count": 4,
   "id": "sudden-arctic",
   "metadata": {},
   "outputs": [],
   "source": [
    "def fun(bbd):\n",
    "    qry =sql('''\n",
    "    SELECT\n",
    "    *\n",
    "    FROM  df\n",
    "    LIMIT 5\n",
    "    '''.format(df = varname(bbd)))\n",
    "    return qry"
   ]
  },
  {
   "cell_type": "code",
   "execution_count": 5,
   "id": "respected-bandwidth",
   "metadata": {},
   "outputs": [],
   "source": [
    "def clean(bbd:str,columns:list):\n",
    "    qry = sql('''\n",
    "    SELECT\n",
    "    {1}\n",
    "    FROM {0}\n",
    "    '''.format(bbd,str(columns)[1:-1].replace(\"'\" , \"\")))\n",
    "    return qry"
   ]
  },
  {
   "cell_type": "code",
   "execution_count": 6,
   "id": "marked-collectible",
   "metadata": {},
   "outputs": [],
   "source": [
    "columns = 'ID','Sex','Age','Height','Weight','Team','Year','Season','City','Sport'\n",
    "newdf = clean('df',columns)\n",
    "newdf = newdf.dropna(subset=['Age','Height','Weight'])"
   ]
  },
  {
   "cell_type": "code",
   "execution_count": 7,
   "id": "sound-banking",
   "metadata": {},
   "outputs": [],
   "source": [
    "def sex(bbd, columns:list, sex:str):\n",
    "    qry = sql('''\n",
    "    SELECT\n",
    "    {1}\n",
    "    FROM {0}\n",
    "    WHERE Sex = \"{2}\"\n",
    "    '''.format(bbd,str(columns)[1:-1].replace(\"'\" , \"\"), sex))\n",
    "    return qry"
   ]
  },
  {
   "cell_type": "code",
   "execution_count": 8,
   "id": "other-rwanda",
   "metadata": {},
   "outputs": [
    {
     "name": "stdout",
     "output_type": "stream",
     "text": [
      " Shape Male DataFrame (139454, 10) \n",
      " Shape Female DataFrame (66711, 10)\n"
     ]
    }
   ],
   "source": [
    "Male = sex('newdf',columns,'M')\n",
    "Female = sex('newdf', columns, 'F')\n",
    "print(' Shape Male DataFrame {} \\n Shape Female DataFrame {}'.format(Male.shape, Female.shape))"
   ]
  },
  {
   "cell_type": "markdown",
   "id": "working-oklahoma",
   "metadata": {},
   "source": [
    "### Male"
   ]
  },
  {
   "cell_type": "code",
   "execution_count": 9,
   "id": "drawn-volleyball",
   "metadata": {},
   "outputs": [],
   "source": [
    "def Count(bbd:str, column:str):\n",
    "    qry= sql('''\n",
    "    SELECT\n",
    "    {1},\n",
    "    COUNT({1}) as count\n",
    "    FROM {0}\n",
    "    GROUP BY {1}\n",
    "    '''.format(bbd,column))\n",
    "    return qry"
   ]
  },
  {
   "cell_type": "code",
   "execution_count": 10,
   "id": "derived-immunology",
   "metadata": {},
   "outputs": [],
   "source": [
    "countageM = Count('Male','Age')\n",
    "countageF = Count('Female','Age')"
   ]
  },
  {
   "cell_type": "code",
   "execution_count": 11,
   "id": "loving-locator",
   "metadata": {},
   "outputs": [
    {
     "data": {
      "image/png": "[encoded data removed]",
      "text/plain": [
       "<Figure size 432x288 with 1 Axes>"
      ]
     },
     "metadata": {
      "needs_background": "light"
     },
     "output_type": "display_data"
    }
   ],
   "source": [
    "fig, ax = plt.subplots()\n",
    "Male = ax.bar(countageM['Age'],countageM['count'], label='Male', alpha=0.6)\n",
    "Female = ax.bar(countageF['Age'], countageF['count'], label='Female', alpha=0.6)\n",
    "ax.legend()\n",
    "plt.grid()\n",
    "plt.show()"
   ]
  },
  {
   "cell_type": "code",
   "execution_count": 16,
   "id": "descending-avenue",
   "metadata": {},
   "outputs": [],
   "source": [
    "def stast(bbd:str, column, sex:str):\n",
    "    qry=sql('''\n",
    "    SELECT\n",
    "    min({1}) as min,\n",
    "    ROUND(avg({1}),2) as avg,\n",
    "    max({1}) as max\n",
    "    FROM {0}\n",
    "    '''.format(bbd, column,sex))\n",
    "    return qry"
   ]
  },
  {
   "cell_type": "code",
   "execution_count": 43,
   "id": "superior-armenia",
   "metadata": {},
   "outputs": [],
   "source": [
    "stastM = stast('countageM','Age','Male')\n",
    "stastF = stast('countageF', 'Age','Female')\n",
    "summary = pd.concat([stastM,stastF],keys=['Male','Female']).droplevel(level=1)"
   ]
  },
  {
   "cell_type": "code",
   "execution_count": 91,
   "id": "revolutionary-catalyst",
   "metadata": {},
   "outputs": [],
   "source": [
    "def stastplot(df):\n",
    "    x = np.arange(len(df.iloc[0].index))\n",
    "    width = 0.2\n",
    "    plt.bar(x, df.iloc[0], width=0.2, label='Male',alpha=0.6)\n",
    "    plt.bar(x + width, df.iloc[1],width=0.2, label='Female',alpha=0.6)\n",
    "    plt.xticks(x, ['min','avg','max'], horizontalalignment=\"left\")\n",
    "    plt.legend()\n",
    "    plt.grid(alpha=0.5)\n",
    "    plt.show()\n",
    "    "
   ]
  },
  {
   "cell_type": "code",
   "execution_count": 92,
   "id": "personal-immune",
   "metadata": {},
   "outputs": [
    {
     "data": {
      "image/png": "[encoded data removed]",
      "text/plain": [
       "<Figure size 432x288 with 1 Axes>"
      ]
     },
     "metadata": {
      "needs_background": "light"
     },
     "output_type": "display_data"
    }
   ],
   "source": [
    "stastplot(summary)"
   ]
  },
  {
   "cell_type": "code",
   "execution_count": 90,
   "id": "allied-canal",
   "metadata": {},
   "outputs": [
    {
     "data": {
      "text/html": [
       "<div>\n",
       "<style scoped>\n",
       "    .dataframe tbody tr th:only-of-type {\n",
       "        vertical-align: middle;\n",
       "    }\n",
       "\n",
       "    .dataframe tbody tr th {\n",
       "        vertical-align: top;\n",
       "    }\n",
       "\n",
       "    .dataframe thead th {\n",
       "        text-align: right;\n",
       "    }\n",
       "</style>\n",
       "<table border=\"1\" class=\"dataframe\">\n",
       "  <thead>\n",
       "    <tr style=\"text-align: right;\">\n",
       "      <th></th>\n",
       "      <th>min</th>\n",
       "      <th>avg</th>\n",
       "      <th>max</th>\n",
       "    </tr>\n",
       "  </thead>\n",
       "  <tbody>\n",
       "    <tr>\n",
       "      <th>Male</th>\n",
       "      <td>12.0</td>\n",
       "      <td>41.03</td>\n",
       "      <td>71.0</td>\n",
       "    </tr>\n",
       "    <tr>\n",
       "      <th>Female</th>\n",
       "      <td>11.0</td>\n",
       "      <td>38.22</td>\n",
       "      <td>69.0</td>\n",
       "    </tr>\n",
       "  </tbody>\n",
       "</table>\n",
       "</div>"
      ],
      "text/plain": [
       "         min    avg   max\n",
       "Male    12.0  41.03  71.0\n",
       "Female  11.0  38.22  69.0"
      ]
     },
     "execution_count": 90,
     "metadata": {},
     "output_type": "execute_result"
    }
   ],
   "source": [
    "summary"
   ]
  },
  {
   "cell_type": "code",
   "execution_count": null,
   "id": "adolescent-vancouver",
   "metadata": {},
   "outputs": [],
   "source": []
  }
 ],
 "metadata": {
  "kernelspec": {
   "display_name": "Python 3",
   "language": "python",
   "name": "python3"
  },
  "language_info": {
   "codemirror_mode": {
    "name": "ipython",
    "version": 3
   },
   "file_extension": ".py",
   "mimetype": "text/x-python",
   "name": "python",
   "nbconvert_exporter": "python",
   "pygments_lexer": "ipython3",
   "version": "3.9.1"
  }
 },
 "nbformat": 4,
 "nbformat_minor": 5
}
